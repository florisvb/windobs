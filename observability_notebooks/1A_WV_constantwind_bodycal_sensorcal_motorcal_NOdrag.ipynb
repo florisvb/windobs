{
 "cells": [
  {
   "cell_type": "markdown",
   "metadata": {},
   "source": [
    "# 1A. Wind-Vision: Fully calibrated, constant wind, no drag\n",
    "\n",
    "Given: wind angle, vision angle, phi\n",
    "\n",
    "Scenario details:\n",
    "1. Constant wind\n",
    "2. Body calibrations known\n",
    "3. Sensor calibrations known\n",
    "4. Motor calibrations known\n",
    "5. No drag\n",
    "\n",
    "### Summary\n",
    "\n",
    "To get zeta, need f_para or f_perp to be non-zero. First order derivative is sufficient. When zeta is observable, the entire state is observable."
   ]
  },
  {
   "cell_type": "code",
   "execution_count": 2,
   "metadata": {},
   "outputs": [],
   "source": [
    "import sympy as sp\n",
    "import numpy as np\n",
    "import matplotlib.pyplot as plt\n",
    "\n",
    "from symbolic_derivatives import directional_derivative, chain_rule_derivative, get_bigO, get_vars"
   ]
  },
  {
   "cell_type": "code",
   "execution_count": 3,
   "metadata": {},
   "outputs": [],
   "source": [
    "sin = sp.sin\n",
    "cos = sp.cos\n",
    "tan = sp.tan"
   ]
  },
  {
   "cell_type": "code",
   "execution_count": 4,
   "metadata": {},
   "outputs": [],
   "source": [
    "sp.init_printing()"
   ]
  },
  {
   "cell_type": "markdown",
   "metadata": {},
   "source": [
    "### Define variables"
   ]
  },
  {
   "cell_type": "code",
   "execution_count": 5,
   "metadata": {},
   "outputs": [],
   "source": [
    "W,zeta, W_z, \\\n",
    "  Wdot, zetadot, \\\n",
    "  theta,thetadot,thetaddot,\\\n",
    "  phi,phidot,phiddot,\\\n",
    "  gamma, gammadot,\\\n",
    "  A_para, Adot_para,\\\n",
    "  A_perp, Adot_perp,\\\n",
    "  beta, betadot, \\\n",
    "  V_perp, V_para, V_z, \\\n",
    "  Vdot_perp, Vdot_para, Vdot_z, \\\n",
    "  m, d1, d2, i, z, zdot \\\n",
    "  = sp.symbols([\\\n",
    "  'W','zeta', 'W_z', \\\n",
    "  'Wdot', 'zetadot', \\\n",
    "  'theta','thetadot', 'thetaddot',\\\n",
    "  'phi','phidot', 'phiddot', \\\n",
    "  'gamma', 'gammadot',\\\n",
    "  'A_para', 'Adot_para',\\\n",
    "  'A_perp', 'Adot_perp', \\\n",
    "  'beta', 'betadot',\\\n",
    "   'V_perp', 'V_para', 'V_z', \\\n",
    "   'Vdot_perp', 'Vdot_para', 'Vdot_z',\\\n",
    "   'm', 'd1', 'd2', 'i', 'z', 'zdot'])\n",
    "\n",
    "\n",
    "thrust_para, thrust_perp, thrust_z = sp.symbols(['thrust_para', 'thrust_perp', 'thrust_z'])\n",
    "\n",
    "u_phi, u_para, u_perp, u_z = sp.symbols(['u_phi', 'u_para', 'u_perp', 'u_z'])\n",
    "\n",
    "km1, km2, km3, km4, km5 = sp.symbols(['km1', 'km2', 'km3', 'km4', 'km5'])\n",
    "ks1, ks2, ks3, ks4, ks5 = sp.symbols(['ks1', 'ks2', 'ks3', 'ks4', 'ks5'])"
   ]
  },
  {
   "cell_type": "code",
   "execution_count": 6,
   "metadata": {},
   "outputs": [],
   "source": [
    "if 1: # No drag\n",
    "    c_para = 0\n",
    "    c_perp = 0\n",
    "    c_z = 0\n",
    "    c_phi = 0\n",
    "else:\n",
    "    c_para,c_perp,c_phi,c_z = sp.symbols(['c_para', 'c_perp', 'c_phi', 'c_z'])"
   ]
  },
  {
   "cell_type": "markdown",
   "metadata": {},
   "source": [
    "### Airspeed"
   ]
  },
  {
   "cell_type": "code",
   "execution_count": 7,
   "metadata": {},
   "outputs": [
    {
     "data": {
      "image/png": "[encoded data removed]",
      "text/latex": [
       "$$V_{para} - W \\cos{\\left (\\phi - \\zeta \\right )}$$"
      ],
      "text/plain": [
       "Vₚₐᵣₐ - W⋅cos(φ - ζ)"
      ]
     },
     "execution_count": 7,
     "metadata": {},
     "output_type": "execute_result"
    }
   ],
   "source": [
    "h_A_para = V_para - W*cos(phi-zeta)\n",
    "h_A_para"
   ]
  },
  {
   "cell_type": "code",
   "execution_count": 8,
   "metadata": {
    "scrolled": true
   },
   "outputs": [
    {
     "data": {
      "image/png": "[encoded data removed]",
      "text/latex": [
       "$$V_{perp} + W \\sin{\\left (\\phi - \\zeta \\right )}$$"
      ],
      "text/plain": [
       "Vₚₑᵣₚ + W⋅sin(φ - ζ)"
      ]
     },
     "execution_count": 8,
     "metadata": {},
     "output_type": "execute_result"
    }
   ],
   "source": [
    "h_A_perp = V_perp + W*sin(phi-zeta)\n",
    "h_A_perp"
   ]
  },
  {
   "cell_type": "markdown",
   "metadata": {},
   "source": [
    "### Sum of forces in parallel and perpendicular directions"
   ]
  },
  {
   "cell_type": "code",
   "execution_count": 9,
   "metadata": {},
   "outputs": [
    {
     "data": {
      "image/png": "[encoded data removed]",
      "text/latex": [
       "$$km_{1} u_{para}$$"
      ],
      "text/plain": [
       "km₁⋅uₚₐᵣₐ"
      ]
     },
     "execution_count": 9,
     "metadata": {},
     "output_type": "execute_result"
    }
   ],
   "source": [
    "F_para = -c_para*h_A_para + u_para*km1\n",
    "F_para"
   ]
  },
  {
   "cell_type": "code",
   "execution_count": 10,
   "metadata": {},
   "outputs": [
    {
     "data": {
      "image/png": "[encoded data removed]",
      "text/latex": [
       "$$km_{3} u_{perp}$$"
      ],
      "text/plain": [
       "km₃⋅uₚₑᵣₚ"
      ]
     },
     "execution_count": 10,
     "metadata": {},
     "output_type": "execute_result"
    }
   ],
   "source": [
    "F_perp = -c_perp*h_A_perp + u_perp*km3\n",
    "F_perp"
   ]
  },
  {
   "cell_type": "markdown",
   "metadata": {},
   "source": [
    "### Vdot para and perp, taking into account derivative of body coordinates"
   ]
  },
  {
   "cell_type": "code",
   "execution_count": 11,
   "metadata": {},
   "outputs": [
    {
     "data": {
      "image/png": "[encoded data removed]",
      "text/latex": [
       "$$V_{perp} \\dot{\\phi} + \\frac{km_{1} u_{para}}{m}$$"
      ],
      "text/plain": [
       "           km₁⋅uₚₐᵣₐ\n",
       "Vₚₑᵣₚ⋅φ̇ + ─────────\n",
       "               m    "
      ]
     },
     "execution_count": 11,
     "metadata": {},
     "output_type": "execute_result"
    }
   ],
   "source": [
    "Vdot_para = 1/m*(F_para) + V_perp*phidot\n",
    "sp.simplify(sp.expand(Vdot_para))"
   ]
  },
  {
   "cell_type": "code",
   "execution_count": 12,
   "metadata": {},
   "outputs": [
    {
     "data": {
      "image/png": "[encoded data removed]",
      "text/latex": [
       "$$- V_{para} \\dot{\\phi} + \\frac{km_{3} u_{perp}}{m}$$"
      ],
      "text/plain": [
       "            km₃⋅uₚₑᵣₚ\n",
       "-Vₚₐᵣₐ⋅φ̇ + ─────────\n",
       "                m    "
      ]
     },
     "execution_count": 12,
     "metadata": {},
     "output_type": "execute_result"
    }
   ],
   "source": [
    "Vdot_perp = 1/m*(F_perp) - V_para*phidot\n",
    "sp.simplify(sp.expand(Vdot_perp))"
   ]
  },
  {
   "cell_type": "markdown",
   "metadata": {},
   "source": [
    "### Observability"
   ]
  },
  {
   "cell_type": "code",
   "execution_count": 13,
   "metadata": {},
   "outputs": [
    {
     "data": {
      "image/png": "[encoded data removed]",
      "text/latex": [
       "$$\\left [ V_{para}, \\quad V_{perp}, \\quad \\phi, \\quad \\dot{\\phi}, \\quad W, \\quad \\zeta\\right ]$$"
      ],
      "text/plain": [
       "[Vₚₐᵣₐ, Vₚₑᵣₚ, φ, φ̇, W, ζ]"
      ]
     },
     "execution_count": 13,
     "metadata": {},
     "output_type": "execute_result"
    }
   ],
   "source": [
    "x = [V_para,\n",
    "     V_perp,\n",
    "     phi,\n",
    "     phidot,\n",
    "     W,\n",
    "     zeta]\n",
    "x"
   ]
  },
  {
   "cell_type": "code",
   "execution_count": 14,
   "metadata": {},
   "outputs": [
    {
     "data": {
      "image/png": "[encoded data removed]",
      "text/latex": [
       "$$V_{perp} \\dot{\\phi}$$"
      ],
      "text/plain": [
       "Vₚₑᵣₚ⋅φ̇"
      ]
     },
     "execution_count": 14,
     "metadata": {},
     "output_type": "execute_result"
    }
   ],
   "source": [
    "Vdot_para_f_0 = sp.simplify( Vdot_para - sp.Derivative(Vdot_para, u_para).doit()*u_para )\n",
    "Vdot_para_f_0"
   ]
  },
  {
   "cell_type": "code",
   "execution_count": 15,
   "metadata": {},
   "outputs": [
    {
     "data": {
      "image/png": "[encoded data removed]",
      "text/latex": [
       "$$- V_{para} \\dot{\\phi}$$"
      ],
      "text/plain": [
       "-Vₚₐᵣₐ⋅φ̇"
      ]
     },
     "execution_count": 15,
     "metadata": {},
     "output_type": "execute_result"
    }
   ],
   "source": [
    "Vdot_perp_f_0 = sp.simplify( Vdot_perp - sp.Derivative(Vdot_perp, u_perp).doit()*u_perp )\n",
    "Vdot_perp_f_0"
   ]
  },
  {
   "cell_type": "code",
   "execution_count": 16,
   "metadata": {},
   "outputs": [
    {
     "data": {
      "image/png": "[encoded data removed]",
      "text/latex": [
       "$$\\left[\\begin{matrix}V_{perp} \\dot{\\phi}\\\\- V_{para} \\dot{\\phi}\\\\\\dot{\\phi}\\\\0\\\\0\\\\0\\end{matrix}\\right]$$"
      ],
      "text/plain": [
       "⎡Vₚₑᵣₚ⋅φ̇ ⎤\n",
       "⎢         ⎥\n",
       "⎢-Vₚₐᵣₐ⋅φ̇⎥\n",
       "⎢         ⎥\n",
       "⎢   φ̇    ⎥\n",
       "⎢         ⎥\n",
       "⎢    0    ⎥\n",
       "⎢         ⎥\n",
       "⎢    0    ⎥\n",
       "⎢         ⎥\n",
       "⎣    0    ⎦"
      ]
     },
     "execution_count": 16,
     "metadata": {},
     "output_type": "execute_result"
    }
   ],
   "source": [
    "if 1: # constant wind\n",
    "    f_0 = [sp.simplify( Vdot_para_f_0 ),\n",
    "           sp.simplify( Vdot_perp_f_0 ),\n",
    "           phidot,\n",
    "           -c_phi*phidot,\n",
    "           0,\n",
    "           0]\n",
    "else:\n",
    "    f_0 = [sp.simplify( Vdot_para_f_0 ),\n",
    "           sp.simplify( Vdot_perp_f_0 ),\n",
    "           phidot,\n",
    "           -c_phi*phidot,\n",
    "           Wdot,\n",
    "           zetadot]\n",
    "sp.Matrix(f_0)"
   ]
  },
  {
   "cell_type": "code",
   "execution_count": 17,
   "metadata": {},
   "outputs": [
    {
     "data": {
      "image/png": "[encoded data removed]",
      "text/latex": [
       "$$\\left[\\begin{matrix}0\\\\0\\\\0\\\\\\frac{km_{4}}{i}\\\\0\\\\0\\end{matrix}\\right]$$"
      ],
      "text/plain": [
       "⎡ 0 ⎤\n",
       "⎢   ⎥\n",
       "⎢ 0 ⎥\n",
       "⎢   ⎥\n",
       "⎢ 0 ⎥\n",
       "⎢   ⎥\n",
       "⎢km₄⎥\n",
       "⎢───⎥\n",
       "⎢ i ⎥\n",
       "⎢   ⎥\n",
       "⎢ 0 ⎥\n",
       "⎢   ⎥\n",
       "⎣ 0 ⎦"
      ]
     },
     "execution_count": 17,
     "metadata": {},
     "output_type": "execute_result"
    }
   ],
   "source": [
    "f_phidot = [  0,\n",
    "              0,\n",
    "              0,\n",
    "              km4/i,\n",
    "              0,\n",
    "              0]\n",
    "sp.Matrix(f_phidot)"
   ]
  },
  {
   "cell_type": "code",
   "execution_count": 18,
   "metadata": {},
   "outputs": [
    {
     "data": {
      "image/png": "[encoded data removed]",
      "text/latex": [
       "$$\\left[\\begin{matrix}\\frac{km_{1}}{m}\\\\0\\\\0\\\\\\frac{km_{2}}{i}\\\\0\\\\0\\end{matrix}\\right]$$"
      ],
      "text/plain": [
       "⎡km₁⎤\n",
       "⎢───⎥\n",
       "⎢ m ⎥\n",
       "⎢   ⎥\n",
       "⎢ 0 ⎥\n",
       "⎢   ⎥\n",
       "⎢ 0 ⎥\n",
       "⎢   ⎥\n",
       "⎢km₂⎥\n",
       "⎢───⎥\n",
       "⎢ i ⎥\n",
       "⎢   ⎥\n",
       "⎢ 0 ⎥\n",
       "⎢   ⎥\n",
       "⎣ 0 ⎦"
      ]
     },
     "execution_count": 18,
     "metadata": {},
     "output_type": "execute_result"
    }
   ],
   "source": [
    "f_para = [sp.Derivative(Vdot_para, u_para).doit(),\n",
    "          0,\n",
    "          0,\n",
    "          km2/i, # models a damaged wing\n",
    "          0,\n",
    "          0]\n",
    "sp.Matrix(f_para)"
   ]
  },
  {
   "cell_type": "code",
   "execution_count": 19,
   "metadata": {},
   "outputs": [
    {
     "data": {
      "image/png": "[encoded data removed]",
      "text/latex": [
       "$$\\left[\\begin{matrix}0\\\\\\frac{km_{3}}{m}\\\\0\\\\0\\\\0\\\\0\\end{matrix}\\right]$$"
      ],
      "text/plain": [
       "⎡ 0 ⎤\n",
       "⎢   ⎥\n",
       "⎢km₃⎥\n",
       "⎢───⎥\n",
       "⎢ m ⎥\n",
       "⎢   ⎥\n",
       "⎢ 0 ⎥\n",
       "⎢   ⎥\n",
       "⎢ 0 ⎥\n",
       "⎢   ⎥\n",
       "⎢ 0 ⎥\n",
       "⎢   ⎥\n",
       "⎣ 0 ⎦"
      ]
     },
     "execution_count": 19,
     "metadata": {},
     "output_type": "execute_result"
    }
   ],
   "source": [
    "f_perp = [0,\n",
    "          sp.Derivative(Vdot_perp, u_perp).doit(),\n",
    "          0,\n",
    "          0,\n",
    "          0,\n",
    "          0]\n",
    "sp.Matrix(f_perp)"
   ]
  },
  {
   "cell_type": "code",
   "execution_count": 20,
   "metadata": {},
   "outputs": [],
   "source": [
    "f_0 = sp.Matrix(f_0)\n",
    "f_phidot = 1*sp.Matrix(f_phidot) # run motors in anti direction\n",
    "f_para = 1*sp.Matrix(f_para) # run motors together\n",
    "f_perp = 1*sp.Matrix(f_perp) # "
   ]
  },
  {
   "cell_type": "code",
   "execution_count": 21,
   "metadata": {},
   "outputs": [
    {
     "data": {
      "image/png": "[encoded data removed]",
      "text/latex": [
       "$$\\left[\\begin{matrix}V_{perp} \\dot{\\phi} + \\frac{km_{1} u_{para}}{m}\\\\- V_{para} \\dot{\\phi} + \\frac{km_{3} u_{perp}}{m}\\\\\\dot{\\phi}\\\\\\frac{km_{2} u_{para}}{i} + \\frac{km_{4} u_{\\phi}}{i}\\\\0\\\\0\\end{matrix}\\right]$$"
      ],
      "text/plain": [
       "⎡           km₁⋅uₚₐᵣₐ ⎤\n",
       "⎢Vₚₑᵣₚ⋅φ̇ + ───────── ⎥\n",
       "⎢               m     ⎥\n",
       "⎢                     ⎥\n",
       "⎢            km₃⋅uₚₑᵣₚ⎥\n",
       "⎢-Vₚₐᵣₐ⋅φ̇ + ─────────⎥\n",
       "⎢                m    ⎥\n",
       "⎢                     ⎥\n",
       "⎢         φ̇          ⎥\n",
       "⎢                     ⎥\n",
       "⎢ km₂⋅uₚₐᵣₐ   km₄⋅uᵩ  ⎥\n",
       "⎢ ───────── + ──────  ⎥\n",
       "⎢     i         i     ⎥\n",
       "⎢                     ⎥\n",
       "⎢          0          ⎥\n",
       "⎢                     ⎥\n",
       "⎣          0          ⎦"
      ]
     },
     "execution_count": 21,
     "metadata": {},
     "output_type": "execute_result"
    }
   ],
   "source": [
    "full_dynamics = f_0 + u_phi*f_phidot + u_para*f_para + u_perp*f_perp #+ u_z*f_z\n",
    "full_dynamics"
   ]
  },
  {
   "cell_type": "markdown",
   "metadata": {},
   "source": [
    "### Some values"
   ]
  },
  {
   "cell_type": "code",
   "execution_count": 22,
   "metadata": {},
   "outputs": [],
   "source": [
    "s = {V_para: 2, V_perp: 3, V_z: 5,\n",
    "     zeta: 7, W: 13, W_z: 17,\n",
    "     zetadot: 19, Wdot: 23, \n",
    "     #c_para: 29, c_perp: 31, c_z: 37, c_phi: 41,\n",
    "     phi:43, phidot: 47,\n",
    "     u_para: 53, u_perp: 59, u_phi: 61, u_z: 67,\n",
    "     z: 71, zdot: 73,\n",
    "     m: 79, d1: 83, d2: 89, i: 97,\n",
    "     km1: 101, km2: 103, km3: 107, km4: 109, km5: 113,\n",
    "     ks1: 127, ks2: 131, ks3: 137, ks4: 139, ks5: 149,\n",
    "    }\n",
    "\n",
    "us = {u_para: 53, u_perp: 59, u_phi: 61, u_z: 67,}\n",
    "#motor_ks = {km1: 101, km2: 103, km3: 107, km4: 109, km5: 113,}\n",
    "motor_ks = {km1: 1, km2: 0, km3: 1, km4: 1, km5: 1,}\n",
    "#cs = {c_para: 29, c_perp: 31, c_z: 37, c_phi: 41,}\n",
    "cs = {c_para: 0, c_perp: 0, c_z: 0, c_phi: 0,} # no drag\n",
    "#mis = {m: 79, i: 97,}\n",
    "mis = {m: 1, i: 1,}"
   ]
  },
  {
   "cell_type": "markdown",
   "metadata": {},
   "source": [
    "### Observability analysis"
   ]
  },
  {
   "cell_type": "code",
   "execution_count": 23,
   "metadata": {},
   "outputs": [
    {
     "data": {
      "image/png": "[encoded data removed]",
      "text/latex": [
       "$$\\left[\\begin{matrix}\\frac{V_{perp} + W \\sin{\\left (\\phi - \\zeta \\right )}}{V_{para} - W \\cos{\\left (\\phi - \\zeta \\right )}}\\\\\\phi\\\\\\frac{V_{perp}}{V_{para}}\\end{matrix}\\right]$$"
      ],
      "text/plain": [
       "⎡Vₚₑᵣₚ + W⋅sin(φ - ζ)⎤\n",
       "⎢────────────────────⎥\n",
       "⎢Vₚₐᵣₐ - W⋅cos(φ - ζ)⎥\n",
       "⎢                    ⎥\n",
       "⎢         φ          ⎥\n",
       "⎢                    ⎥\n",
       "⎢       Vₚₑᵣₚ        ⎥\n",
       "⎢       ─────        ⎥\n",
       "⎣       Vₚₐᵣₐ        ⎦"
      ]
     },
     "execution_count": 23,
     "metadata": {},
     "output_type": "execute_result"
    }
   ],
   "source": [
    "h = sp.Matrix([h_A_perp/h_A_para, \n",
    "               phi, \n",
    "               V_perp/V_para, \n",
    "               #zeta,\n",
    "              ])\n",
    "h"
   ]
  },
  {
   "cell_type": "markdown",
   "metadata": {},
   "source": [
    "### With just h"
   ]
  },
  {
   "cell_type": "code",
   "execution_count": 24,
   "metadata": {},
   "outputs": [
    {
     "name": "stdout",
     "output_type": "stream",
     "text": [
      "Rank O =  3\n",
      "Rank {O; zeta} =  4\n",
      "\n",
      "Not observable.\n",
      "\n",
      "x_tilde = \n"
     ]
    },
    {
     "data": {
      "image/png": "[encoded data removed]",
      "text/latex": [
       "$$\\left [ W, \\quad \\zeta, \\quad V_{perp}, \\quad V_{para}, \\quad \\phi, \\quad \\dot{\\phi}\\right ]$$"
      ],
      "text/plain": [
       "[W, ζ, Vₚₑᵣₚ, Vₚₐᵣₐ, φ, φ̇]"
      ]
     },
     "execution_count": 24,
     "metadata": {},
     "output_type": "execute_result"
    }
   ],
   "source": [
    "O = h\n",
    "jx = get_vars(sp.Matrix.vstack(O, sp.Matrix([x]).T ) )\n",
    "J = O.jacobian( jx ).subs(s)\n",
    "R_nozeta = np.linalg.matrix_rank(np.matrix(J, dtype=float))\n",
    "\n",
    "# augment with zeta\n",
    "Ozeta = O.row_insert(0, sp.Matrix([zeta]))\n",
    "Jzeta = Ozeta.jacobian( jx ).subs(s)\n",
    "R_zeta = np.linalg.matrix_rank(np.matrix(Jzeta, dtype=float))\n",
    "\n",
    "print('Rank O = ', R_nozeta)\n",
    "print('Rank {O; zeta} = ', R_zeta)\n",
    "print()\n",
    "\n",
    "if R_nozeta == R_zeta:\n",
    "    print('Observable!')\n",
    "else:\n",
    "    print('Not observable.')\n",
    "\n",
    "    print()\n",
    "print('x_tilde = ')\n",
    "jx"
   ]
  },
  {
   "cell_type": "markdown",
   "metadata": {},
   "source": [
    "### With one derivative, no control"
   ]
  },
  {
   "cell_type": "code",
   "execution_count": 33,
   "metadata": {},
   "outputs": [
    {
     "name": "stdout",
     "output_type": "stream",
     "text": [
      "Rank O =  4\n",
      "Rank {O; zeta} =  5\n",
      "\n",
      "Not observable.\n",
      "\n",
      "x_tilde = \n"
     ]
    },
    {
     "data": {
      "image/png": "[encoded data removed]",
      "text/latex": [
       "$$\\left [ W, \\quad \\zeta, \\quad V_{perp}, \\quad V_{para}, \\quad \\phi, \\quad \\dot{\\phi}\\right ]$$"
      ],
      "text/plain": [
       "[W, ζ, Vₚₑᵣₚ, Vₚₐᵣₐ, φ, φ̇]"
      ]
     },
     "execution_count": 33,
     "metadata": {},
     "output_type": "execute_result"
    }
   ],
   "source": [
    "O = h\n",
    "bigO = get_bigO(h.subs(motor_ks).subs(cs).subs(mis), \n",
    "                x, \n",
    "                [f_0.subs(motor_ks).subs(cs).subs(mis)], \n",
    "               )\n",
    "O = sp.Matrix.vstack(*bigO) \n",
    "jx = get_vars(sp.Matrix.vstack(O, sp.Matrix([x]).T ) )\n",
    "J = O.jacobian( jx ).subs(s)\n",
    "R_nozeta = np.linalg.matrix_rank(np.matrix(J, dtype=float))\n",
    "\n",
    "# augment with zeta\n",
    "Ozeta = O.row_insert(0, sp.Matrix([zeta]))\n",
    "Jzeta = Ozeta.jacobian( jx ).subs(s)\n",
    "R_zeta = np.linalg.matrix_rank(np.matrix(Jzeta, dtype=float))\n",
    "\n",
    "print('Rank O = ', R_nozeta)\n",
    "print('Rank {O; zeta} = ', R_zeta)\n",
    "print()\n",
    "\n",
    "if R_nozeta == R_zeta:\n",
    "    print('Observable!')\n",
    "else:\n",
    "    print('Not observable.')\n",
    "\n",
    "    print()\n",
    "print('x_tilde = ')\n",
    "jx"
   ]
  },
  {
   "cell_type": "code",
   "execution_count": 46,
   "metadata": {},
   "outputs": [
    {
     "data": {
      "image/png": "[encoded data removed]",
      "text/latex": [
       "$$\\left[\\begin{matrix}\\frac{V_{perp} + W \\sin{\\left (\\phi - \\zeta \\right )}}{V_{para} - W \\cos{\\left (\\phi - \\zeta \\right )}}\\\\\\phi\\\\\\frac{V_{perp}}{V_{para}}\\\\\\frac{\\dot{\\phi} \\left(- V_{para}^{2} + 2 V_{para} W \\cos{\\left (\\phi - \\zeta \\right )} - V_{perp}^{2} - 2 V_{perp} W \\sin{\\left (\\phi - \\zeta \\right )} - W^{2}\\right)}{\\left(V_{para} - W \\cos{\\left (\\phi - \\zeta \\right )}\\right)^{2}}\\\\\\dot{\\phi}\\\\- \\dot{\\phi} - \\frac{V_{perp}^{2} \\dot{\\phi}}{V_{para}^{2}}\\end{matrix}\\right]$$"
      ],
      "text/plain": [
       "⎡                          Vₚₑᵣₚ + W⋅sin(φ - ζ)                           ⎤\n",
       "⎢                          ────────────────────                           ⎥\n",
       "⎢                          Vₚₐᵣₐ - W⋅cos(φ - ζ)                           ⎥\n",
       "⎢                                                                         ⎥\n",
       "⎢                                    φ                                    ⎥\n",
       "⎢                                                                         ⎥\n",
       "⎢                                  Vₚₑᵣₚ                                  ⎥\n",
       "⎢                                  ─────                                  ⎥\n",
       "⎢                                  Vₚₐᵣₐ                                  ⎥\n",
       "⎢                                                                         ⎥\n",
       "⎢   ⎛       2                               2                           2⎞⎥\n",
       "⎢φ̇⋅⎝- Vₚₐᵣₐ  + 2⋅Vₚₐᵣₐ⋅W⋅cos(φ - ζ) - Vₚₑᵣₚ  - 2⋅Vₚₑᵣₚ⋅W⋅sin(φ - ζ) - W ⎠⎥\n",
       "⎢─────────────────────────────────────────────────────────────────────────⎥\n",
       "⎢                                               2                         ⎥\n",
       "⎢                         (Vₚₐᵣₐ - W⋅cos(φ - ζ))                          ⎥\n",
       "⎢                                                                         ⎥\n",
       "⎢                                   φ̇                                    ⎥\n",
       "⎢                                                                         ⎥\n",
       "⎢                                        2                                ⎥\n",
       "⎢                                   Vₚₑᵣₚ ⋅φ̇                             ⎥\n",
       "⎢                             -φ̇ - ─────────                             ⎥\n",
       "⎢                                          2                              ⎥\n",
       "⎣                                     Vₚₐᵣₐ                               ⎦"
      ]
     },
     "execution_count": 46,
     "metadata": {},
     "output_type": "execute_result"
    }
   ],
   "source": [
    "sp.simplify(O)"
   ]
  },
  {
   "cell_type": "code",
   "execution_count": 71,
   "metadata": {},
   "outputs": [
    {
     "data": {
      "image/png": "[encoded data removed]",
      "text/latex": [
       "$$- \\frac{V_{para} \\dot{\\phi}}{V_{para} - W \\cos{\\left (\\phi - \\zeta \\right )}} - \\frac{V_{perp}^{2} \\dot{\\phi}}{V_{para}^{2} - 2 V_{para} W \\cos{\\left (\\phi - \\zeta \\right )} + W^{2} \\cos^{2}{\\left (\\phi - \\zeta \\right )}} - \\frac{2 V_{perp} W \\dot{\\phi} \\sin{\\left (\\phi - \\zeta \\right )}}{V_{para}^{2} - 2 V_{para} W \\cos{\\left (\\phi - \\zeta \\right )} + W^{2} \\cos^{2}{\\left (\\phi - \\zeta \\right )}} - \\frac{W^{2} \\dot{\\phi} \\sin^{2}{\\left (\\phi - \\zeta \\right )}}{V_{para}^{2} - 2 V_{para} W \\cos{\\left (\\phi - \\zeta \\right )} + W^{2} \\cos^{2}{\\left (\\phi - \\zeta \\right )}} + \\frac{W \\dot{\\phi} \\cos{\\left (\\phi - \\zeta \\right )}}{V_{para} - W \\cos{\\left (\\phi - \\zeta \\right )}}$$"
      ],
      "text/plain": [
       "                                                2                             \n",
       "        Vₚₐᵣₐ⋅φ̇                           Vₚₑᵣₚ ⋅φ̇                          \n",
       "- ──────────────────── - ────────────────────────────────────────────── - ────\n",
       "  Vₚₐᵣₐ - W⋅cos(φ - ζ)        2                           2    2              \n",
       "                         Vₚₐᵣₐ  - 2⋅Vₚₐᵣₐ⋅W⋅cos(φ - ζ) + W ⋅cos (φ - ζ)   Vₚₐᵣ\n",
       "\n",
       "                                                            2       2         \n",
       "       2⋅Vₚₑᵣₚ⋅W⋅φ̇⋅sin(φ - ζ)                             W ⋅φ̇⋅sin (φ - ζ)  \n",
       "────────────────────────────────────────── - ─────────────────────────────────\n",
       " 2                           2    2               2                           \n",
       "ₐ  - 2⋅Vₚₐᵣₐ⋅W⋅cos(φ - ζ) + W ⋅cos (φ - ζ)   Vₚₐᵣₐ  - 2⋅Vₚₐᵣₐ⋅W⋅cos(φ - ζ) + W\n",
       "\n",
       "                                    \n",
       "                  W⋅φ̇⋅cos(φ - ζ)   \n",
       "───────────── + ────────────────────\n",
       "2    2          Vₚₐᵣₐ - W⋅cos(φ - ζ)\n",
       " ⋅cos (φ - ζ)                       "
      ]
     },
     "execution_count": 71,
     "metadata": {},
     "output_type": "execute_result"
    }
   ],
   "source": [
    "sp.expand( O[3] )"
   ]
  },
  {
   "cell_type": "code",
   "execution_count": 78,
   "metadata": {},
   "outputs": [
    {
     "data": {
      "image/png": "[encoded data removed]",
      "text/latex": [
       "$$\\frac{V_{perp}^{2}}{V_{para}^{2} - 2 V_{para} W \\cos{\\left (\\phi - \\zeta \\right )} + W^{2} \\cos^{2}{\\left (\\phi - \\zeta \\right )}} + \\frac{2 V_{perp} W \\sin{\\left (\\phi - \\zeta \\right )}}{V_{para}^{2} - 2 V_{para} W \\cos{\\left (\\phi - \\zeta \\right )} + W^{2} \\cos^{2}{\\left (\\phi - \\zeta \\right )}} + \\frac{W^{2} \\sin^{2}{\\left (\\phi - \\zeta \\right )}}{V_{para}^{2} - 2 V_{para} W \\cos{\\left (\\phi - \\zeta \\right )} + W^{2} \\cos^{2}{\\left (\\phi - \\zeta \\right )}}$$"
      ],
      "text/plain": [
       "                         2                                                    \n",
       "                    Vₚₑᵣₚ                                     2⋅Vₚₑᵣₚ⋅W⋅sin(φ \n",
       "────────────────────────────────────────────── + ─────────────────────────────\n",
       "     2                           2    2               2                       \n",
       "Vₚₐᵣₐ  - 2⋅Vₚₐᵣₐ⋅W⋅cos(φ - ζ) + W ⋅cos (φ - ζ)   Vₚₐᵣₐ  - 2⋅Vₚₐᵣₐ⋅W⋅cos(φ - ζ)\n",
       "\n",
       "                                     2    2                       \n",
       "- ζ)                                W ⋅sin (φ - ζ)                \n",
       "───────────────── + ──────────────────────────────────────────────\n",
       "    2    2               2                           2    2       \n",
       " + W ⋅cos (φ - ζ)   Vₚₐᵣₐ  - 2⋅Vₚₐᵣₐ⋅W⋅cos(φ - ζ) + W ⋅cos (φ - ζ)"
      ]
     },
     "execution_count": 78,
     "metadata": {},
     "output_type": "execute_result"
    }
   ],
   "source": [
    "sp.expand(O[0]**2)"
   ]
  },
  {
   "cell_type": "code",
   "execution_count": 83,
   "metadata": {},
   "outputs": [
    {
     "data": {
      "image/png": "[encoded data removed]",
      "text/latex": [
       "$$-1$$"
      ],
      "text/plain": [
       "-1"
      ]
     },
     "execution_count": 83,
     "metadata": {},
     "output_type": "execute_result"
    }
   ],
   "source": [
    "sp.simplify( -V_para/(V_para-W*cos(phi-zeta)) + W*cos(phi-zeta) / (V_para-W*cos(phi-zeta)) )"
   ]
  },
  {
   "cell_type": "code",
   "execution_count": 84,
   "metadata": {},
   "outputs": [
    {
     "data": {
      "image/png": "[encoded data removed]",
      "text/latex": [
       "$$0$$"
      ],
      "text/plain": [
       "0"
      ]
     },
     "execution_count": 84,
     "metadata": {},
     "output_type": "execute_result"
    }
   ],
   "source": [
    "sp.simplify(sp.expand( (-O[0]**2 -1)*O[4] - O[3]))"
   ]
  },
  {
   "cell_type": "markdown",
   "metadata": {},
   "source": [
    "### With one derivative, active u_para"
   ]
  },
  {
   "cell_type": "code",
   "execution_count": 31,
   "metadata": {},
   "outputs": [
    {
     "name": "stdout",
     "output_type": "stream",
     "text": [
      "Rank O =  6\n",
      "Rank {O; zeta} =  6\n",
      "\n",
      "Observable!\n",
      "x_tilde = \n"
     ]
    },
    {
     "data": {
      "image/png": "[encoded data removed]",
      "text/latex": [
       "$$\\left [ W, \\quad \\zeta, \\quad V_{perp}, \\quad V_{para}, \\quad \\phi, \\quad \\dot{\\phi}\\right ]$$"
      ],
      "text/plain": [
       "[W, ζ, Vₚₑᵣₚ, Vₚₐᵣₐ, φ, φ̇]"
      ]
     },
     "execution_count": 31,
     "metadata": {},
     "output_type": "execute_result"
    }
   ],
   "source": [
    "O = h\n",
    "bigO = get_bigO(h.subs(motor_ks).subs(cs).subs(mis), \n",
    "                x, \n",
    "                [f_0.subs(motor_ks).subs(cs).subs(mis),\n",
    "                 f_para.subs(motor_ks).subs(cs).subs(mis),\n",
    "                ], \n",
    "               )\n",
    "O = sp.Matrix.vstack(*bigO) \n",
    "jx = get_vars(sp.Matrix.vstack(O, sp.Matrix([x]).T ) )\n",
    "J = O.jacobian( jx ).subs(s)\n",
    "R_nozeta = np.linalg.matrix_rank(np.matrix(J, dtype=float))\n",
    "\n",
    "# augment with zeta\n",
    "Ozeta = O.row_insert(0, sp.Matrix([zeta]))\n",
    "Jzeta = Ozeta.jacobian( jx ).subs(s)\n",
    "R_zeta = np.linalg.matrix_rank(np.matrix(Jzeta, dtype=float))\n",
    "\n",
    "print('Rank O = ', R_nozeta)\n",
    "print('Rank {O; zeta} = ', R_zeta)\n",
    "print()\n",
    "\n",
    "if R_nozeta == R_zeta:\n",
    "    print('Observable!')\n",
    "else:\n",
    "    print('Not observable.')\n",
    "\n",
    "    print()\n",
    "print('x_tilde = ')\n",
    "jx"
   ]
  },
  {
   "cell_type": "code",
   "execution_count": 32,
   "metadata": {},
   "outputs": [
    {
     "data": {
      "image/png": "[encoded data removed]",
      "text/latex": [
       "$$\\left[\\begin{matrix}\\frac{V_{perp} + W \\sin{\\left (\\phi - \\zeta \\right )}}{V_{para} - W \\cos{\\left (\\phi - \\zeta \\right )}}\\\\\\phi\\\\\\frac{V_{perp}}{V_{para}}\\\\- \\frac{V_{para} \\dot{\\phi}}{V_{para} - W \\cos{\\left (\\phi - \\zeta \\right )}} - \\frac{V_{perp} \\dot{\\phi} \\left(V_{perp} + W \\sin{\\left (\\phi - \\zeta \\right )}\\right)}{\\left(V_{para} - W \\cos{\\left (\\phi - \\zeta \\right )}\\right)^{2}} + \\dot{\\phi} \\left(\\frac{W \\cos{\\left (\\phi - \\zeta \\right )}}{V_{para} - W \\cos{\\left (\\phi - \\zeta \\right )}} - \\frac{W \\left(V_{perp} + W \\sin{\\left (\\phi - \\zeta \\right )}\\right) \\sin{\\left (\\phi - \\zeta \\right )}}{\\left(V_{para} - W \\cos{\\left (\\phi - \\zeta \\right )}\\right)^{2}}\\right)\\\\\\dot{\\phi}\\\\- \\dot{\\phi} - \\frac{V_{perp}^{2} \\dot{\\phi}}{V_{para}^{2}}\\\\- \\frac{V_{perp} + W \\sin{\\left (\\phi - \\zeta \\right )}}{\\left(V_{para} - W \\cos{\\left (\\phi - \\zeta \\right )}\\right)^{2}}\\\\0\\\\- \\frac{V_{perp}}{V_{para}^{2}}\\end{matrix}\\right]$$"
      ],
      "text/plain": [
       "⎡                                                   Vₚₑᵣₚ + W⋅sin(φ - ζ)      \n",
       "⎢                                                   ────────────────────      \n",
       "⎢                                                   Vₚₐᵣₐ - W⋅cos(φ - ζ)      \n",
       "⎢                                                                             \n",
       "⎢                                                            φ                \n",
       "⎢                                                                             \n",
       "⎢                                                          Vₚₑᵣₚ              \n",
       "⎢                                                          ─────              \n",
       "⎢                                                          Vₚₐᵣₐ              \n",
       "⎢                                                                             \n",
       "⎢        Vₚₐᵣₐ⋅φ̇         Vₚₑᵣₚ⋅φ̇⋅(Vₚₑᵣₚ + W⋅sin(φ - ζ))      ⎛    W⋅cos(φ - \n",
       "⎢- ──────────────────── - ─────────────────────────────── + φ̇⋅⎜──────────────\n",
       "⎢  Vₚₐᵣₐ - W⋅cos(φ - ζ)                             2          ⎜Vₚₐᵣₐ - W⋅cos(\n",
       "⎢                             (Vₚₐᵣₐ - W⋅cos(φ - ζ))           ⎝              \n",
       "⎢                                                                             \n",
       "⎢                                                            φ̇               \n",
       "⎢                                                                             \n",
       "⎢                                                                2            \n",
       "⎢                                                           Vₚₑᵣₚ ⋅φ̇         \n",
       "⎢                                                     -φ̇ - ─────────         \n",
       "⎢                                                                  2          \n",
       "⎢                                                             Vₚₐᵣₐ           \n",
       "⎢                                                                             \n",
       "⎢                                                 -(Vₚₑᵣₚ + W⋅sin(φ - ζ))     \n",
       "⎢                                                 ────────────────────────    \n",
       "⎢                                                                       2     \n",
       "⎢                                                 (Vₚₐᵣₐ - W⋅cos(φ - ζ))      \n",
       "⎢                                                                             \n",
       "⎢                                                            0                \n",
       "⎢                                                                             \n",
       "⎢                                                         -Vₚₑᵣₚ              \n",
       "⎢                                                         ───────             \n",
       "⎢                                                               2             \n",
       "⎣                                                          Vₚₐᵣₐ              \n",
       "\n",
       "                                             ⎤\n",
       "                                             ⎥\n",
       "                                             ⎥\n",
       "                                             ⎥\n",
       "                                             ⎥\n",
       "                                             ⎥\n",
       "                                             ⎥\n",
       "                                             ⎥\n",
       "                                             ⎥\n",
       "                                             ⎥\n",
       "ζ)       W⋅(Vₚₑᵣₚ + W⋅sin(φ - ζ))⋅sin(φ - ζ)⎞⎥\n",
       "────── - ───────────────────────────────────⎟⎥\n",
       "φ - ζ)                               2      ⎟⎥\n",
       "               (Vₚₐᵣₐ - W⋅cos(φ - ζ))       ⎠⎥\n",
       "                                             ⎥\n",
       "                                             ⎥\n",
       "                                             ⎥\n",
       "                                             ⎥\n",
       "                                             ⎥\n",
       "                                             ⎥\n",
       "                                             ⎥\n",
       "                                             ⎥\n",
       "                                             ⎥\n",
       "                                             ⎥\n",
       "                                             ⎥\n",
       "                                             ⎥\n",
       "                                             ⎥\n",
       "                                             ⎥\n",
       "                                             ⎥\n",
       "                                             ⎥\n",
       "                                             ⎥\n",
       "                                             ⎥\n",
       "                                             ⎥\n",
       "                                             ⎦"
      ]
     },
     "execution_count": 32,
     "metadata": {},
     "output_type": "execute_result"
    }
   ],
   "source": [
    "O"
   ]
  },
  {
   "cell_type": "markdown",
   "metadata": {},
   "source": [
    "### With one derivative, active u_perp"
   ]
  },
  {
   "cell_type": "code",
   "execution_count": 27,
   "metadata": {},
   "outputs": [
    {
     "name": "stdout",
     "output_type": "stream",
     "text": [
      "Rank O =  6\n",
      "Rank {O; zeta} =  6\n",
      "\n",
      "Observable!\n",
      "x_tilde = \n"
     ]
    },
    {
     "data": {
      "image/png": "[encoded data removed]",
      "text/latex": [
       "$$\\left [ W, \\quad \\zeta, \\quad V_{perp}, \\quad V_{para}, \\quad \\phi, \\quad \\dot{\\phi}\\right ]$$"
      ],
      "text/plain": [
       "[W, ζ, Vₚₑᵣₚ, Vₚₐᵣₐ, φ, φ̇]"
      ]
     },
     "execution_count": 27,
     "metadata": {},
     "output_type": "execute_result"
    }
   ],
   "source": [
    "O = h\n",
    "bigO = get_bigO(h.subs(motor_ks).subs(cs).subs(mis), \n",
    "                x, \n",
    "                [f_0.subs(motor_ks).subs(cs).subs(mis),\n",
    "                 f_perp.subs(motor_ks).subs(cs).subs(mis),\n",
    "                ], \n",
    "               )\n",
    "O = sp.Matrix.vstack(*bigO) \n",
    "jx = get_vars(sp.Matrix.vstack(O, sp.Matrix([x]).T ) )\n",
    "J = O.jacobian( jx ).subs(s)\n",
    "R_nozeta = np.linalg.matrix_rank(np.matrix(J, dtype=float))\n",
    "\n",
    "# augment with zeta\n",
    "Ozeta = O.row_insert(0, sp.Matrix([zeta]))\n",
    "Jzeta = Ozeta.jacobian( jx ).subs(s)\n",
    "R_zeta = np.linalg.matrix_rank(np.matrix(Jzeta, dtype=float))\n",
    "\n",
    "print('Rank O = ', R_nozeta)\n",
    "print('Rank {O; zeta} = ', R_zeta)\n",
    "print()\n",
    "\n",
    "if R_nozeta == R_zeta:\n",
    "    print('Observable!')\n",
    "else:\n",
    "    print('Not observable.')\n",
    "\n",
    "    print()\n",
    "print('x_tilde = ')\n",
    "jx"
   ]
  },
  {
   "cell_type": "markdown",
   "metadata": {},
   "source": [
    "# Checking local observability for key states"
   ]
  },
  {
   "cell_type": "markdown",
   "metadata": {},
   "source": [
    "### With one derivative, active u_para, zero airspeed"
   ]
  },
  {
   "cell_type": "code",
   "execution_count": 28,
   "metadata": {},
   "outputs": [],
   "source": [
    "s_air0 = {V_para: None, V_perp: None, V_z: 5,\n",
    "             zeta: 7, W: 13, W_z: 17,\n",
    "             zetadot: 19, Wdot: 23, \n",
    "             #c_para: 29, c_perp: 31, c_z: 37, c_phi: 41,\n",
    "             phi:43, phidot: 0,\n",
    "             u_para: 53, u_perp: 59, u_phi: 61, u_z: 67,\n",
    "             z: 71, zdot: 73,\n",
    "             m: 79, d1: 83, d2: 89, i: 97,\n",
    "             km1: 101, km2: 103, km3: 107, km4: 109, km5: 113,\n",
    "             ks1: 127, ks2: 131, ks3: 137, ks4: 139, ks5: 149,\n",
    "            }"
   ]
  },
  {
   "cell_type": "code",
   "execution_count": 29,
   "metadata": {},
   "outputs": [],
   "source": [
    "s_air0[V_para] =   s_air0[W]*cos(s_air0[phi]-s_air0[zeta])\n",
    "s_air0[V_perp] = - s_air0[W]*cos(s_air0[phi]-s_air0[zeta])"
   ]
  },
  {
   "cell_type": "code",
   "execution_count": 30,
   "metadata": {},
   "outputs": [
    {
     "ename": "TypeError",
     "evalue": "can't convert complex to float",
     "output_type": "error",
     "traceback": [
      "\u001b[0;31m---------------------------------------------------------------------------\u001b[0m",
      "\u001b[0;31mTypeError\u001b[0m                                 Traceback (most recent call last)",
      "\u001b[0;32m<ipython-input-30-fc5f279f25ba>\u001b[0m in \u001b[0;36m<module>\u001b[0;34m()\u001b[0m\n\u001b[1;32m      9\u001b[0m \u001b[0mjx\u001b[0m \u001b[0;34m=\u001b[0m \u001b[0mget_vars\u001b[0m\u001b[0;34m(\u001b[0m\u001b[0msp\u001b[0m\u001b[0;34m.\u001b[0m\u001b[0mMatrix\u001b[0m\u001b[0;34m.\u001b[0m\u001b[0mvstack\u001b[0m\u001b[0;34m(\u001b[0m\u001b[0mO\u001b[0m\u001b[0;34m,\u001b[0m \u001b[0msp\u001b[0m\u001b[0;34m.\u001b[0m\u001b[0mMatrix\u001b[0m\u001b[0;34m(\u001b[0m\u001b[0;34m[\u001b[0m\u001b[0mx\u001b[0m\u001b[0;34m]\u001b[0m\u001b[0;34m)\u001b[0m\u001b[0;34m.\u001b[0m\u001b[0mT\u001b[0m \u001b[0;34m)\u001b[0m \u001b[0;34m)\u001b[0m\u001b[0;34m\u001b[0m\u001b[0m\n\u001b[1;32m     10\u001b[0m \u001b[0mJ\u001b[0m \u001b[0;34m=\u001b[0m \u001b[0mO\u001b[0m\u001b[0;34m.\u001b[0m\u001b[0mjacobian\u001b[0m\u001b[0;34m(\u001b[0m \u001b[0mjx\u001b[0m \u001b[0;34m)\u001b[0m\u001b[0;34m.\u001b[0m\u001b[0msubs\u001b[0m\u001b[0;34m(\u001b[0m\u001b[0ms_air0\u001b[0m\u001b[0;34m)\u001b[0m\u001b[0;34m\u001b[0m\u001b[0m\n\u001b[0;32m---> 11\u001b[0;31m \u001b[0mR_nozeta\u001b[0m \u001b[0;34m=\u001b[0m \u001b[0mnp\u001b[0m\u001b[0;34m.\u001b[0m\u001b[0mlinalg\u001b[0m\u001b[0;34m.\u001b[0m\u001b[0mmatrix_rank\u001b[0m\u001b[0;34m(\u001b[0m\u001b[0mnp\u001b[0m\u001b[0;34m.\u001b[0m\u001b[0mmatrix\u001b[0m\u001b[0;34m(\u001b[0m\u001b[0mJ\u001b[0m\u001b[0;34m,\u001b[0m \u001b[0mdtype\u001b[0m\u001b[0;34m=\u001b[0m\u001b[0mfloat\u001b[0m\u001b[0;34m)\u001b[0m\u001b[0;34m)\u001b[0m\u001b[0;34m\u001b[0m\u001b[0m\n\u001b[0m\u001b[1;32m     12\u001b[0m \u001b[0;34m\u001b[0m\u001b[0m\n\u001b[1;32m     13\u001b[0m \u001b[0;31m# augment with zeta\u001b[0m\u001b[0;34m\u001b[0m\u001b[0;34m\u001b[0m\u001b[0m\n",
      "\u001b[0;32m~/BMD2/lib/python3.5/site-packages/numpy/matrixlib/defmatrix.py\u001b[0m in \u001b[0;36m__new__\u001b[0;34m(subtype, data, dtype, copy)\u001b[0m\n\u001b[1;32m    145\u001b[0m \u001b[0;34m\u001b[0m\u001b[0m\n\u001b[1;32m    146\u001b[0m         \u001b[0;31m# now convert data to an array\u001b[0m\u001b[0;34m\u001b[0m\u001b[0;34m\u001b[0m\u001b[0m\n\u001b[0;32m--> 147\u001b[0;31m         \u001b[0marr\u001b[0m \u001b[0;34m=\u001b[0m \u001b[0mN\u001b[0m\u001b[0;34m.\u001b[0m\u001b[0marray\u001b[0m\u001b[0;34m(\u001b[0m\u001b[0mdata\u001b[0m\u001b[0;34m,\u001b[0m \u001b[0mdtype\u001b[0m\u001b[0;34m=\u001b[0m\u001b[0mdtype\u001b[0m\u001b[0;34m,\u001b[0m \u001b[0mcopy\u001b[0m\u001b[0;34m=\u001b[0m\u001b[0mcopy\u001b[0m\u001b[0;34m)\u001b[0m\u001b[0;34m\u001b[0m\u001b[0m\n\u001b[0m\u001b[1;32m    148\u001b[0m         \u001b[0mndim\u001b[0m \u001b[0;34m=\u001b[0m \u001b[0marr\u001b[0m\u001b[0;34m.\u001b[0m\u001b[0mndim\u001b[0m\u001b[0;34m\u001b[0m\u001b[0m\n\u001b[1;32m    149\u001b[0m         \u001b[0mshape\u001b[0m \u001b[0;34m=\u001b[0m \u001b[0marr\u001b[0m\u001b[0;34m.\u001b[0m\u001b[0mshape\u001b[0m\u001b[0;34m\u001b[0m\u001b[0m\n",
      "\u001b[0;32m~/BMD2/lib/python3.5/site-packages/sympy/matrices/matrices.py\u001b[0m in \u001b[0;36m__array__\u001b[0;34m(self, dtype)\u001b[0m\n\u001b[1;32m   1943\u001b[0m     \u001b[0;32mdef\u001b[0m \u001b[0m__array__\u001b[0m\u001b[0;34m(\u001b[0m\u001b[0mself\u001b[0m\u001b[0;34m,\u001b[0m \u001b[0mdtype\u001b[0m\u001b[0;34m=\u001b[0m\u001b[0mobject\u001b[0m\u001b[0;34m)\u001b[0m\u001b[0;34m:\u001b[0m\u001b[0;34m\u001b[0m\u001b[0m\n\u001b[1;32m   1944\u001b[0m         \u001b[0;32mfrom\u001b[0m \u001b[0;34m.\u001b[0m\u001b[0mdense\u001b[0m \u001b[0;32mimport\u001b[0m \u001b[0mmatrix2numpy\u001b[0m\u001b[0;34m\u001b[0m\u001b[0m\n\u001b[0;32m-> 1945\u001b[0;31m         \u001b[0;32mreturn\u001b[0m \u001b[0mmatrix2numpy\u001b[0m\u001b[0;34m(\u001b[0m\u001b[0mself\u001b[0m\u001b[0;34m,\u001b[0m \u001b[0mdtype\u001b[0m\u001b[0;34m=\u001b[0m\u001b[0mdtype\u001b[0m\u001b[0;34m)\u001b[0m\u001b[0;34m\u001b[0m\u001b[0m\n\u001b[0m\u001b[1;32m   1946\u001b[0m \u001b[0;34m\u001b[0m\u001b[0m\n\u001b[1;32m   1947\u001b[0m     \u001b[0;32mdef\u001b[0m \u001b[0m__getattr__\u001b[0m\u001b[0;34m(\u001b[0m\u001b[0mself\u001b[0m\u001b[0;34m,\u001b[0m \u001b[0mattr\u001b[0m\u001b[0;34m)\u001b[0m\u001b[0;34m:\u001b[0m\u001b[0;34m\u001b[0m\u001b[0m\n",
      "\u001b[0;32m~/BMD2/lib/python3.5/site-packages/sympy/matrices/dense.py\u001b[0m in \u001b[0;36mmatrix2numpy\u001b[0;34m(m, dtype)\u001b[0m\n\u001b[1;32m    821\u001b[0m     \u001b[0;32mfor\u001b[0m \u001b[0mi\u001b[0m \u001b[0;32min\u001b[0m \u001b[0mrange\u001b[0m\u001b[0;34m(\u001b[0m\u001b[0mm\u001b[0m\u001b[0;34m.\u001b[0m\u001b[0mrows\u001b[0m\u001b[0;34m)\u001b[0m\u001b[0;34m:\u001b[0m\u001b[0;34m\u001b[0m\u001b[0m\n\u001b[1;32m    822\u001b[0m         \u001b[0;32mfor\u001b[0m \u001b[0mj\u001b[0m \u001b[0;32min\u001b[0m \u001b[0mrange\u001b[0m\u001b[0;34m(\u001b[0m\u001b[0mm\u001b[0m\u001b[0;34m.\u001b[0m\u001b[0mcols\u001b[0m\u001b[0;34m)\u001b[0m\u001b[0;34m:\u001b[0m\u001b[0;34m\u001b[0m\u001b[0m\n\u001b[0;32m--> 823\u001b[0;31m             \u001b[0ma\u001b[0m\u001b[0;34m[\u001b[0m\u001b[0mi\u001b[0m\u001b[0;34m,\u001b[0m \u001b[0mj\u001b[0m\u001b[0;34m]\u001b[0m \u001b[0;34m=\u001b[0m \u001b[0mm\u001b[0m\u001b[0;34m[\u001b[0m\u001b[0mi\u001b[0m\u001b[0;34m,\u001b[0m \u001b[0mj\u001b[0m\u001b[0;34m]\u001b[0m\u001b[0;34m\u001b[0m\u001b[0m\n\u001b[0m\u001b[1;32m    824\u001b[0m     \u001b[0;32mreturn\u001b[0m \u001b[0ma\u001b[0m\u001b[0;34m\u001b[0m\u001b[0m\n\u001b[1;32m    825\u001b[0m \u001b[0;34m\u001b[0m\u001b[0m\n",
      "\u001b[0;32m~/BMD2/lib/python3.5/site-packages/sympy/core/expr.py\u001b[0m in \u001b[0;36m__float__\u001b[0;34m(self)\u001b[0m\n\u001b[1;32m    253\u001b[0m             \u001b[0;32mreturn\u001b[0m \u001b[0mfloat\u001b[0m\u001b[0;34m(\u001b[0m\u001b[0mresult\u001b[0m\u001b[0;34m)\u001b[0m\u001b[0;34m\u001b[0m\u001b[0m\n\u001b[1;32m    254\u001b[0m         \u001b[0;32mif\u001b[0m \u001b[0mresult\u001b[0m\u001b[0;34m.\u001b[0m\u001b[0mis_number\u001b[0m \u001b[0;32mand\u001b[0m \u001b[0mresult\u001b[0m\u001b[0;34m.\u001b[0m\u001b[0mas_real_imag\u001b[0m\u001b[0;34m(\u001b[0m\u001b[0;34m)\u001b[0m\u001b[0;34m[\u001b[0m\u001b[0;36m1\u001b[0m\u001b[0;34m]\u001b[0m\u001b[0;34m:\u001b[0m\u001b[0;34m\u001b[0m\u001b[0m\n\u001b[0;32m--> 255\u001b[0;31m             \u001b[0;32mraise\u001b[0m \u001b[0mTypeError\u001b[0m\u001b[0;34m(\u001b[0m\u001b[0;34m\"can't convert complex to float\"\u001b[0m\u001b[0;34m)\u001b[0m\u001b[0;34m\u001b[0m\u001b[0m\n\u001b[0m\u001b[1;32m    256\u001b[0m         \u001b[0;32mraise\u001b[0m \u001b[0mTypeError\u001b[0m\u001b[0;34m(\u001b[0m\u001b[0;34m\"can't convert expression to float\"\u001b[0m\u001b[0;34m)\u001b[0m\u001b[0;34m\u001b[0m\u001b[0m\n\u001b[1;32m    257\u001b[0m \u001b[0;34m\u001b[0m\u001b[0m\n",
      "\u001b[0;31mTypeError\u001b[0m: can't convert complex to float"
     ]
    }
   ],
   "source": [
    "O = h\n",
    "bigO = get_bigO(h.subs(motor_ks).subs(cs).subs(mis), \n",
    "                x, \n",
    "                [f_0.subs(motor_ks).subs(cs).subs(mis),\n",
    "                 f_perp.subs(motor_ks).subs(cs).subs(mis),\n",
    "                ], \n",
    "               )\n",
    "O = sp.Matrix.vstack(*bigO) \n",
    "jx = get_vars(sp.Matrix.vstack(O, sp.Matrix([x]).T ) )\n",
    "J = O.jacobian( jx ).subs(s_air0)\n",
    "R_nozeta = np.linalg.matrix_rank(np.matrix(J, dtype=float))\n",
    "\n",
    "# augment with zeta\n",
    "Ozeta = O.row_insert(0, sp.Matrix([zeta]))\n",
    "Jzeta = Ozeta.jacobian( jx ).subs(s_air0)\n",
    "R_zeta = np.linalg.matrix_rank(np.matrix(Jzeta, dtype=float))\n",
    "\n",
    "print('Rank O = ', R_nozeta)\n",
    "print('Rank {O; zeta} = ', R_zeta)\n",
    "print()\n",
    "\n",
    "if R_nozeta == R_zeta:\n",
    "    print('Observable!')\n",
    "else:\n",
    "    print('Not observable.')\n",
    "\n",
    "    print()\n",
    "print('x_tilde = ')\n",
    "jx"
   ]
  },
  {
   "cell_type": "markdown",
   "metadata": {},
   "source": [
    "##### Angle is undefined. Same will apply for v_para, v_perp = 0"
   ]
  },
  {
   "cell_type": "markdown",
   "metadata": {},
   "source": [
    "### Not observable if: phidot = 0, v_perp=0, u_para controlled"
   ]
  },
  {
   "cell_type": "code",
   "execution_count": null,
   "metadata": {},
   "outputs": [],
   "source": [
    "s_phidot0 = {V_para: 2, V_perp: 0, V_z: 5,\n",
    "             zeta: 7, W: 13, W_z: 17,\n",
    "             zetadot: 19, Wdot: 23, \n",
    "             #c_para: 29, c_perp: 31, c_z: 37, c_phi: 41,\n",
    "             phi:43, phidot: 0,\n",
    "             u_para: 53, u_perp: 59, u_phi: 61, u_z: 67,\n",
    "             z: 71, zdot: 73,\n",
    "             m: 79, d1: 83, d2: 89, i: 97,\n",
    "             km1: 101, km2: 103, km3: 107, km4: 109, km5: 113,\n",
    "             ks1: 127, ks2: 131, ks3: 137, ks4: 139, ks5: 149,\n",
    "            }"
   ]
  },
  {
   "cell_type": "code",
   "execution_count": null,
   "metadata": {},
   "outputs": [],
   "source": [
    "O = h\n",
    "bigO = get_bigO(h.subs(motor_ks).subs(cs).subs(mis), \n",
    "                x, \n",
    "                [f_0.subs(motor_ks).subs(cs).subs(mis),\n",
    "                 f_para.subs(motor_ks).subs(cs).subs(mis),\n",
    "                ], \n",
    "               )\n",
    "O = sp.Matrix.vstack(*bigO) \n",
    "jx = get_vars(sp.Matrix.vstack(O, sp.Matrix([x]).T ) )\n",
    "J = O.jacobian( jx ).subs(s_phidot0)\n",
    "R_nozeta = np.linalg.matrix_rank(np.matrix(J, dtype=float))\n",
    "\n",
    "# augment with zeta\n",
    "Ozeta = O.row_insert(0, sp.Matrix([zeta]))\n",
    "Jzeta = Ozeta.jacobian( jx ).subs(s_phidot0)\n",
    "R_zeta = np.linalg.matrix_rank(np.matrix(Jzeta, dtype=float))\n",
    "\n",
    "print('Rank O = ', R_nozeta)\n",
    "print('Rank {O; zeta} = ', R_zeta)\n",
    "print()\n",
    "\n",
    "if R_nozeta == R_zeta:\n",
    "    print('Observable!')\n",
    "else:\n",
    "    print('Not observable.')\n",
    "\n",
    "    print()\n",
    "print('x_tilde = ')\n",
    "jx"
   ]
  },
  {
   "cell_type": "code",
   "execution_count": null,
   "metadata": {},
   "outputs": [],
   "source": []
  },
  {
   "cell_type": "markdown",
   "metadata": {},
   "source": [
    "### Observable if: phidot = 0, v_perp!=0, u_para controlled"
   ]
  },
  {
   "cell_type": "code",
   "execution_count": null,
   "metadata": {},
   "outputs": [],
   "source": [
    "s_phidot0 = {V_para: 2, V_perp: 3, V_z: 5,\n",
    "             zeta: 7, W: 13, W_z: 17,\n",
    "             zetadot: 19, Wdot: 23, \n",
    "             #c_para: 29, c_perp: 31, c_z: 37, c_phi: 41,c@{}\n",
    "             phi:43, phidot: 0,\n",
    "             u_para: 53, u_perp: 59, u_phi: 61, u_z: 67,\n",
    "             z: 71, zdot: 73,\n",
    "             m: 79, d1: 83, d2: 89, i: 97,\n",
    "             km1: 101, km2: 103, km3: 107, km4: 109, km5: 113,\n",
    "             ks1: 127, ks2: 131, ks3: 137, ks4: 139, ks5: 149,\n",
    "            }"
   ]
  },
  {
   "cell_type": "code",
   "execution_count": null,
   "metadata": {},
   "outputs": [],
   "source": [
    "O = h\n",
    "bigO = get_bigO(h.subs(motor_ks).subs(cs).subs(mis), \n",
    "                x, \n",
    "                [f_0.subs(motor_ks).subs(cs).subs(mis),\n",
    "                 f_para.subs(motor_ks).subs(cs).subs(mis),\n",
    "                ], \n",
    "               )\n",
    "O = sp.Matrix.vstack(*bigO) \n",
    "jx = get_vars(sp.Matrix.vstack(O, sp.Matrix([x]).T ) )\n",
    "J = O.jacobian( jx ).subs(s_phidot0)\n",
    "R_nozeta = np.linalg.matrix_rank(np.matrix(J, dtype=float))\n",
    "\n",
    "# augment with zeta\n",
    "Ozeta = O.row_insert(0, sp.Matrix([zeta]))\n",
    "Jzeta = Ozeta.jacobian( jx ).subs(s_phidot0)\n",
    "R_zeta = np.linalg.matrix_rank(np.matrix(Jzeta, dtype=float))\n",
    "\n",
    "print('Rank O = ', R_nozeta)\n",
    "print('Rank {O; zeta} = ', R_zeta)\n",
    "print()\n",
    "\n",
    "if R_nozeta == R_zeta:\n",
    "    print('Observable!')\n",
    "else:\n",
    "    print('Not observable.')\n",
    "\n",
    "    print()\n",
    "print('x_tilde = ')\n",
    "jx"
   ]
  },
  {
   "cell_type": "code",
   "execution_count": null,
   "metadata": {},
   "outputs": [],
   "source": [
    "O"
   ]
  },
  {
   "cell_type": "code",
   "execution_count": null,
   "metadata": {},
   "outputs": [],
   "source": []
  },
  {
   "cell_type": "code",
   "execution_count": null,
   "metadata": {},
   "outputs": [],
   "source": []
  },
  {
   "cell_type": "code",
   "execution_count": null,
   "metadata": {},
   "outputs": [],
   "source": []
  }
 ],
 "metadata": {
  "kernelspec": {
   "display_name": "Python 3",
   "language": "python",
   "name": "python3"
  },
  "language_info": {
   "codemirror_mode": {
    "name": "ipython",
    "version": 3
   },
   "file_extension": ".py",
   "mimetype": "text/x-python",
   "name": "python",
   "nbconvert_exporter": "python",
   "pygments_lexer": "ipython3",
   "version": "3.5.2"
  }
 },
 "nbformat": 4,
 "nbformat_minor": 2
}
