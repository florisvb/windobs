{
 "cells": [
  {
   "cell_type": "markdown",
   "metadata": {},
   "source": [
    "# 1C. Wind-Vision: Fully calibrated, dynamic wind, with drag\n",
    "\n",
    "Given: wind angle, vision angle, phi\n",
    "\n",
    "Scenario details:\n",
    "1. Dynamic wind\n",
    "2. Body calibrations known\n",
    "3. Sensor calibrations known\n",
    "4. Motor calibrations known\n",
    "5. With drag\n",
    "\n",
    "### Summary\n",
    "\n",
    "To get zeta, only a first order derivative is necessary, no active control. With dynamic wind, to get zetadot, need a second derivative."
   ]
  },
  {
   "cell_type": "code",
   "execution_count": 1,
   "metadata": {},
   "outputs": [],
   "source": [
    "import sympy as sp\n",
    "import numpy as np\n",
    "import matplotlib.pyplot as plt\n",
    "\n",
    "from symbolic_derivatives import directional_derivative, chain_rule_derivative, get_bigO, get_vars"
   ]
  },
  {
   "cell_type": "code",
   "execution_count": 2,
   "metadata": {},
   "outputs": [],
   "source": [
    "sin = sp.sin\n",
    "cos = sp.cos\n",
    "tan = sp.tan"
   ]
  },
  {
   "cell_type": "code",
   "execution_count": 3,
   "metadata": {},
   "outputs": [],
   "source": [
    "sp.init_printing()"
   ]
  },
  {
   "cell_type": "markdown",
   "metadata": {},
   "source": [
    "### Define variables"
   ]
  },
  {
   "cell_type": "code",
   "execution_count": 4,
   "metadata": {},
   "outputs": [],
   "source": [
    "W,zeta, W_z, \\\n",
    "  Wdot, zetadot, \\\n",
    "  theta,thetadot,thetaddot,\\\n",
    "  phi,phidot,phiddot,\\\n",
    "  gamma, gammadot,\\\n",
    "  A_para, Adot_para,\\\n",
    "  A_perp, Adot_perp,\\\n",
    "  beta, betadot, \\\n",
    "  V_perp, V_para, V_z, \\\n",
    "  Vdot_perp, Vdot_para, Vdot_z, \\\n",
    "  m, d1, d2, i, z, zdot \\\n",
    "  = sp.symbols([\\\n",
    "  'W','zeta', 'W_z', \\\n",
    "  'Wdot', 'zetadot', \\\n",
    "  'theta','thetadot', 'thetaddot',\\\n",
    "  'phi','phidot', 'phiddot', \\\n",
    "  'gamma', 'gammadot',\\\n",
    "  'A_para', 'Adot_para',\\\n",
    "  'A_perp', 'Adot_perp', \\\n",
    "  'beta', 'betadot',\\\n",
    "   'V_perp', 'V_para', 'V_z', \\\n",
    "   'Vdot_perp', 'Vdot_para', 'Vdot_z',\\\n",
    "   'm', 'd1', 'd2', 'i', 'z', 'zdot'])\n",
    "\n",
    "\n",
    "thrust_para, thrust_perp, thrust_z = sp.symbols(['thrust_para', 'thrust_perp', 'thrust_z'])\n",
    "\n",
    "u_phi, u_para, u_perp, u_z = sp.symbols(['u_phi', 'u_para', 'u_perp', 'u_z'])\n",
    "\n",
    "km1, km2, km3, km4, km5 = sp.symbols(['km1', 'km2', 'km3', 'km4', 'km5'])\n",
    "ks1, ks2, ks3, ks4, ks5 = sp.symbols(['ks1', 'ks2', 'ks3', 'ks4', 'ks5'])"
   ]
  },
  {
   "cell_type": "code",
   "execution_count": 5,
   "metadata": {},
   "outputs": [],
   "source": [
    "if 0: # No drag\n",
    "    c_para = 0\n",
    "    c_perp = 0\n",
    "    c_z = 0\n",
    "    c_phi = 0\n",
    "else:\n",
    "    c_para,c_perp,c_phi,c_z = sp.symbols(['c_para', 'c_perp', 'c_phi', 'c_z'])"
   ]
  },
  {
   "cell_type": "markdown",
   "metadata": {},
   "source": [
    "### Airspeed"
   ]
  },
  {
   "cell_type": "code",
   "execution_count": 6,
   "metadata": {},
   "outputs": [
    {
     "data": {
      "image/png": "[encoded data removed]",
      "text/latex": [
       "$$V_{para} - W \\cos{\\left (\\phi - \\zeta \\right )}$$"
      ],
      "text/plain": [
       "Vₚₐᵣₐ - W⋅cos(φ - ζ)"
      ]
     },
     "execution_count": 6,
     "metadata": {},
     "output_type": "execute_result"
    }
   ],
   "source": [
    "h_A_para = V_para - W*cos(phi-zeta)\n",
    "h_A_para"
   ]
  },
  {
   "cell_type": "code",
   "execution_count": 7,
   "metadata": {
    "scrolled": true
   },
   "outputs": [
    {
     "data": {
      "image/png": "[encoded data removed]",
      "text/latex": [
       "$$V_{perp} + W \\sin{\\left (\\phi - \\zeta \\right )}$$"
      ],
      "text/plain": [
       "Vₚₑᵣₚ + W⋅sin(φ - ζ)"
      ]
     },
     "execution_count": 7,
     "metadata": {},
     "output_type": "execute_result"
    }
   ],
   "source": [
    "h_A_perp = V_perp + W*sin(phi-zeta)\n",
    "h_A_perp"
   ]
  },
  {
   "cell_type": "markdown",
   "metadata": {},
   "source": [
    "### Sum of forces in parallel and perpendicular directions"
   ]
  },
  {
   "cell_type": "code",
   "execution_count": 8,
   "metadata": {},
   "outputs": [
    {
     "data": {
      "image/png": "[encoded data removed]",
      "text/latex": [
       "$$- c_{para} \\left(V_{para} - W \\cos{\\left (\\phi - \\zeta \\right )}\\right) + km_{1} u_{para}$$"
      ],
      "text/plain": [
       "-cₚₐᵣₐ⋅(Vₚₐᵣₐ - W⋅cos(φ - ζ)) + km₁⋅uₚₐᵣₐ"
      ]
     },
     "execution_count": 8,
     "metadata": {},
     "output_type": "execute_result"
    }
   ],
   "source": [
    "F_para = -c_para*h_A_para + u_para*km1\n",
    "F_para"
   ]
  },
  {
   "cell_type": "code",
   "execution_count": 9,
   "metadata": {},
   "outputs": [
    {
     "data": {
      "image/png": "[encoded data removed]",
      "text/latex": [
       "$$- c_{perp} \\left(V_{perp} + W \\sin{\\left (\\phi - \\zeta \\right )}\\right) + km_{3} u_{perp}$$"
      ],
      "text/plain": [
       "-cₚₑᵣₚ⋅(Vₚₑᵣₚ + W⋅sin(φ - ζ)) + km₃⋅uₚₑᵣₚ"
      ]
     },
     "execution_count": 9,
     "metadata": {},
     "output_type": "execute_result"
    }
   ],
   "source": [
    "F_perp = -c_perp*h_A_perp + u_perp*km3\n",
    "F_perp"
   ]
  },
  {
   "cell_type": "markdown",
   "metadata": {},
   "source": [
    "### Vdot para and perp, taking into account derivative of body coordinates"
   ]
  },
  {
   "cell_type": "code",
   "execution_count": 10,
   "metadata": {},
   "outputs": [
    {
     "data": {
      "image/png": "[encoded data removed]",
      "text/latex": [
       "$$\\frac{- V_{para} c_{para} + V_{perp} m \\dot{\\phi} + W c_{para} \\cos{\\left (\\phi - \\zeta \\right )} + km_{1} u_{para}}{m}$$"
      ],
      "text/plain": [
       "-Vₚₐᵣₐ⋅cₚₐᵣₐ + Vₚₑᵣₚ⋅m⋅φ̇ + W⋅cₚₐᵣₐ⋅cos(φ - ζ) + km₁⋅uₚₐᵣₐ\n",
       "──────────────────────────────────────────────────────────\n",
       "                            m                             "
      ]
     },
     "execution_count": 10,
     "metadata": {},
     "output_type": "execute_result"
    }
   ],
   "source": [
    "Vdot_para = 1/m*(F_para) + V_perp*phidot\n",
    "sp.simplify(sp.expand(Vdot_para))"
   ]
  },
  {
   "cell_type": "code",
   "execution_count": 11,
   "metadata": {},
   "outputs": [
    {
     "data": {
      "image/png": "[encoded data removed]",
      "text/latex": [
       "$$\\frac{- V_{para} m \\dot{\\phi} - V_{perp} c_{perp} - W c_{perp} \\sin{\\left (\\phi - \\zeta \\right )} + km_{3} u_{perp}}{m}$$"
      ],
      "text/plain": [
       "-Vₚₐᵣₐ⋅m⋅φ̇ - Vₚₑᵣₚ⋅cₚₑᵣₚ - W⋅cₚₑᵣₚ⋅sin(φ - ζ) + km₃⋅uₚₑᵣₚ\n",
       "──────────────────────────────────────────────────────────\n",
       "                            m                             "
      ]
     },
     "execution_count": 11,
     "metadata": {},
     "output_type": "execute_result"
    }
   ],
   "source": [
    "Vdot_perp = 1/m*(F_perp) - V_para*phidot\n",
    "sp.simplify(sp.expand(Vdot_perp))"
   ]
  },
  {
   "cell_type": "markdown",
   "metadata": {},
   "source": [
    "### Observability"
   ]
  },
  {
   "cell_type": "code",
   "execution_count": 12,
   "metadata": {},
   "outputs": [
    {
     "data": {
      "image/png": "[encoded data removed]",
      "text/latex": [
       "$$\\left [ V_{para}, \\quad V_{perp}, \\quad \\phi, \\quad \\dot{\\phi}, \\quad W, \\quad \\zeta\\right ]$$"
      ],
      "text/plain": [
       "[Vₚₐᵣₐ, Vₚₑᵣₚ, φ, φ̇, W, ζ]"
      ]
     },
     "execution_count": 12,
     "metadata": {},
     "output_type": "execute_result"
    }
   ],
   "source": [
    "x = [V_para,\n",
    "     V_perp,\n",
    "     phi,\n",
    "     phidot,\n",
    "     W,\n",
    "     zeta]\n",
    "x"
   ]
  },
  {
   "cell_type": "code",
   "execution_count": 13,
   "metadata": {},
   "outputs": [
    {
     "data": {
      "image/png": "[encoded data removed]",
      "text/latex": [
       "$$\\frac{V_{perp} m \\dot{\\phi} - c_{para} \\left(V_{para} - W \\cos{\\left (\\phi - \\zeta \\right )}\\right)}{m}$$"
      ],
      "text/plain": [
       "Vₚₑᵣₚ⋅m⋅φ̇ - cₚₐᵣₐ⋅(Vₚₐᵣₐ - W⋅cos(φ - ζ))\n",
       "─────────────────────────────────────────\n",
       "                    m                    "
      ]
     },
     "execution_count": 13,
     "metadata": {},
     "output_type": "execute_result"
    }
   ],
   "source": [
    "Vdot_para_f_0 = sp.simplify( Vdot_para - sp.Derivative(Vdot_para, u_para).doit()*u_para )\n",
    "Vdot_para_f_0"
   ]
  },
  {
   "cell_type": "code",
   "execution_count": 14,
   "metadata": {},
   "outputs": [
    {
     "data": {
      "image/png": "[encoded data removed]",
      "text/latex": [
       "$$- \\frac{V_{para} m \\dot{\\phi} + V_{perp} c_{perp} + W c_{perp} \\sin{\\left (\\phi - \\zeta \\right )}}{m}$$"
      ],
      "text/plain": [
       "-(Vₚₐᵣₐ⋅m⋅φ̇ + Vₚₑᵣₚ⋅cₚₑᵣₚ + W⋅cₚₑᵣₚ⋅sin(φ - ζ)) \n",
       "─────────────────────────────────────────────────\n",
       "                        m                        "
      ]
     },
     "execution_count": 14,
     "metadata": {},
     "output_type": "execute_result"
    }
   ],
   "source": [
    "Vdot_perp_f_0 = sp.simplify( Vdot_perp - sp.Derivative(Vdot_perp, u_perp).doit()*u_perp )\n",
    "Vdot_perp_f_0"
   ]
  },
  {
   "cell_type": "code",
   "execution_count": 15,
   "metadata": {},
   "outputs": [
    {
     "data": {
      "image/png": "[encoded data removed]",
      "text/latex": [
       "$$\\left[\\begin{matrix}\\frac{V_{perp} m \\dot{\\phi} - c_{para} \\left(V_{para} - W \\cos{\\left (\\phi - \\zeta \\right )}\\right)}{m}\\\\- \\frac{V_{para} m \\dot{\\phi} + V_{perp} c_{perp} + W c_{perp} \\sin{\\left (\\phi - \\zeta \\right )}}{m}\\\\\\dot{\\phi}\\\\- c_{\\phi} \\dot{\\phi}\\\\\\dot{W}\\\\\\dot{\\zeta}\\end{matrix}\\right]$$"
      ],
      "text/plain": [
       "⎡    Vₚₑᵣₚ⋅m⋅φ̇ - cₚₐᵣₐ⋅(Vₚₐᵣₐ - W⋅cos(φ - ζ))    ⎤\n",
       "⎢    ─────────────────────────────────────────    ⎥\n",
       "⎢                        m                        ⎥\n",
       "⎢                                                 ⎥\n",
       "⎢-(Vₚₐᵣₐ⋅m⋅φ̇ + Vₚₑᵣₚ⋅cₚₑᵣₚ + W⋅cₚₑᵣₚ⋅sin(φ - ζ)) ⎥\n",
       "⎢─────────────────────────────────────────────────⎥\n",
       "⎢                        m                        ⎥\n",
       "⎢                                                 ⎥\n",
       "⎢                       φ̇                        ⎥\n",
       "⎢                                                 ⎥\n",
       "⎢                     -cᵩ⋅φ̇                      ⎥\n",
       "⎢                                                 ⎥\n",
       "⎢                       Ẇ                        ⎥\n",
       "⎢                                                 ⎥\n",
       "⎣                       ζ̇                        ⎦"
      ]
     },
     "execution_count": 15,
     "metadata": {},
     "output_type": "execute_result"
    }
   ],
   "source": [
    "if 0: # constant wind\n",
    "    f_0 = [sp.simplify( Vdot_para_f_0 ),\n",
    "           sp.simplify( Vdot_perp_f_0 ),\n",
    "           phidot,\n",
    "           -c_phi*phidot,\n",
    "           0,\n",
    "           0]\n",
    "else:\n",
    "    f_0 = [sp.simplify( Vdot_para_f_0 ),\n",
    "           sp.simplify( Vdot_perp_f_0 ),\n",
    "           phidot,\n",
    "           -c_phi*phidot,\n",
    "           Wdot,\n",
    "           zetadot]\n",
    "sp.Matrix(f_0)"
   ]
  },
  {
   "cell_type": "code",
   "execution_count": 16,
   "metadata": {},
   "outputs": [
    {
     "data": {
      "image/png": "[encoded data removed]",
      "text/latex": [
       "$$\\left[\\begin{matrix}0\\\\0\\\\0\\\\\\frac{km_{4}}{i}\\\\0\\\\0\\end{matrix}\\right]$$"
      ],
      "text/plain": [
       "⎡ 0 ⎤\n",
       "⎢   ⎥\n",
       "⎢ 0 ⎥\n",
       "⎢   ⎥\n",
       "⎢ 0 ⎥\n",
       "⎢   ⎥\n",
       "⎢km₄⎥\n",
       "⎢───⎥\n",
       "⎢ i ⎥\n",
       "⎢   ⎥\n",
       "⎢ 0 ⎥\n",
       "⎢   ⎥\n",
       "⎣ 0 ⎦"
      ]
     },
     "execution_count": 16,
     "metadata": {},
     "output_type": "execute_result"
    }
   ],
   "source": [
    "f_phidot = [  0,\n",
    "              0,\n",
    "              0,\n",
    "              km4/i,\n",
    "              0,\n",
    "              0]\n",
    "sp.Matrix(f_phidot)"
   ]
  },
  {
   "cell_type": "code",
   "execution_count": 17,
   "metadata": {},
   "outputs": [
    {
     "data": {
      "image/png": "[encoded data removed]",
      "text/latex": [
       "$$\\left[\\begin{matrix}\\frac{km_{1}}{m}\\\\0\\\\0\\\\\\frac{km_{2}}{i}\\\\0\\\\0\\end{matrix}\\right]$$"
      ],
      "text/plain": [
       "⎡km₁⎤\n",
       "⎢───⎥\n",
       "⎢ m ⎥\n",
       "⎢   ⎥\n",
       "⎢ 0 ⎥\n",
       "⎢   ⎥\n",
       "⎢ 0 ⎥\n",
       "⎢   ⎥\n",
       "⎢km₂⎥\n",
       "⎢───⎥\n",
       "⎢ i ⎥\n",
       "⎢   ⎥\n",
       "⎢ 0 ⎥\n",
       "⎢   ⎥\n",
       "⎣ 0 ⎦"
      ]
     },
     "execution_count": 17,
     "metadata": {},
     "output_type": "execute_result"
    }
   ],
   "source": [
    "f_para = [sp.Derivative(Vdot_para, u_para).doit(),\n",
    "          0,\n",
    "          0,\n",
    "          km2/i, # models a damaged wing\n",
    "          0,\n",
    "          0]\n",
    "sp.Matrix(f_para)"
   ]
  },
  {
   "cell_type": "code",
   "execution_count": 18,
   "metadata": {},
   "outputs": [
    {
     "data": {
      "image/png": "[encoded data removed]",
      "text/latex": [
       "$$\\left[\\begin{matrix}0\\\\\\frac{km_{3}}{m}\\\\0\\\\0\\\\0\\\\0\\end{matrix}\\right]$$"
      ],
      "text/plain": [
       "⎡ 0 ⎤\n",
       "⎢   ⎥\n",
       "⎢km₃⎥\n",
       "⎢───⎥\n",
       "⎢ m ⎥\n",
       "⎢   ⎥\n",
       "⎢ 0 ⎥\n",
       "⎢   ⎥\n",
       "⎢ 0 ⎥\n",
       "⎢   ⎥\n",
       "⎢ 0 ⎥\n",
       "⎢   ⎥\n",
       "⎣ 0 ⎦"
      ]
     },
     "execution_count": 18,
     "metadata": {},
     "output_type": "execute_result"
    }
   ],
   "source": [
    "f_perp = [0,\n",
    "          sp.Derivative(Vdot_perp, u_perp).doit(),\n",
    "          0,\n",
    "          0,\n",
    "          0,\n",
    "          0]\n",
    "sp.Matrix(f_perp)"
   ]
  },
  {
   "cell_type": "code",
   "execution_count": 19,
   "metadata": {},
   "outputs": [],
   "source": [
    "f_0 = sp.Matrix(f_0)\n",
    "f_phidot = 1*sp.Matrix(f_phidot) # run motors in anti direction\n",
    "f_para = 1*sp.Matrix(f_para) # run motors together\n",
    "f_perp = 1*sp.Matrix(f_perp) # "
   ]
  },
  {
   "cell_type": "code",
   "execution_count": 20,
   "metadata": {},
   "outputs": [
    {
     "data": {
      "image/png": "[encoded data removed]",
      "text/latex": [
       "$$\\left[\\begin{matrix}\\frac{km_{1} u_{para}}{m} + \\frac{V_{perp} m \\dot{\\phi} - c_{para} \\left(V_{para} - W \\cos{\\left (\\phi - \\zeta \\right )}\\right)}{m}\\\\\\frac{km_{3} u_{perp}}{m} - \\frac{V_{para} m \\dot{\\phi} + V_{perp} c_{perp} + W c_{perp} \\sin{\\left (\\phi - \\zeta \\right )}}{m}\\\\\\dot{\\phi}\\\\- c_{\\phi} \\dot{\\phi} + \\frac{km_{2} u_{para}}{i} + \\frac{km_{4} u_{\\phi}}{i}\\\\\\dot{W}\\\\\\dot{\\zeta}\\end{matrix}\\right]$$"
      ],
      "text/plain": [
       "⎡  km₁⋅uₚₐᵣₐ   Vₚₑᵣₚ⋅m⋅φ̇ - cₚₐᵣₐ⋅(Vₚₐᵣₐ - W⋅cos(φ - ζ))  ⎤\n",
       "⎢  ───────── + ─────────────────────────────────────────  ⎥\n",
       "⎢      m                           m                      ⎥\n",
       "⎢                                                         ⎥\n",
       "⎢km₃⋅uₚₑᵣₚ   Vₚₐᵣₐ⋅m⋅φ̇ + Vₚₑᵣₚ⋅cₚₑᵣₚ + W⋅cₚₑᵣₚ⋅sin(φ - ζ)⎥\n",
       "⎢───────── - ─────────────────────────────────────────────⎥\n",
       "⎢    m                             m                      ⎥\n",
       "⎢                                                         ⎥\n",
       "⎢                           φ̇                            ⎥\n",
       "⎢                                                         ⎥\n",
       "⎢                        km₂⋅uₚₐᵣₐ   km₄⋅uᵩ               ⎥\n",
       "⎢               -cᵩ⋅φ̇ + ───────── + ──────               ⎥\n",
       "⎢                            i         i                  ⎥\n",
       "⎢                                                         ⎥\n",
       "⎢                           Ẇ                            ⎥\n",
       "⎢                                                         ⎥\n",
       "⎣                           ζ̇                            ⎦"
      ]
     },
     "execution_count": 20,
     "metadata": {},
     "output_type": "execute_result"
    }
   ],
   "source": [
    "full_dynamics = f_0 + u_phi*f_phidot + u_para*f_para + u_perp*f_perp #+ u_z*f_z\n",
    "full_dynamics"
   ]
  },
  {
   "cell_type": "markdown",
   "metadata": {},
   "source": [
    "### Some values"
   ]
  },
  {
   "cell_type": "code",
   "execution_count": 21,
   "metadata": {},
   "outputs": [],
   "source": [
    "s = {V_para: 2, V_perp: 3, V_z: 5,\n",
    "     zeta: 7, W: 13, W_z: 17,\n",
    "     zetadot: 19, Wdot: 23, \n",
    "     #c_para: 29, c_perp: 31, c_z: 37, c_phi: 41,\n",
    "     phi:43, phidot: 47,\n",
    "     u_para: 53, u_perp: 59, u_phi: 61, u_z: 67,\n",
    "     z: 71, zdot: 73,\n",
    "     m: 79, d1: 83, d2: 89, i: 97,\n",
    "     km1: 101, km2: 103, km3: 107, km4: 109, km5: 113,\n",
    "     ks1: 127, ks2: 131, ks3: 137, ks4: 139, ks5: 149,\n",
    "    }\n",
    "\n",
    "us = {u_para: 53, u_perp: 59, u_phi: 61, u_z: 67,}\n",
    "#motor_ks = {km1: 101, km2: 103, km3: 107, km4: 109, km5: 113,}\n",
    "motor_ks = {km1: 1, km2: 0, km3: 1, km4: 1, km5: 1,}\n",
    "cs = {c_para: 29, c_perp: 31, c_z: 37, c_phi: 41,}\n",
    "#cs = {c_para: 0, c_perp: 0, c_z: 0, c_phi: 0,} # no drag\n",
    "#mis = {m: 79, i: 97,}\n",
    "mis = {m: 1, i: 1,}"
   ]
  },
  {
   "cell_type": "markdown",
   "metadata": {},
   "source": [
    "### Observability analysis"
   ]
  },
  {
   "cell_type": "code",
   "execution_count": 22,
   "metadata": {},
   "outputs": [
    {
     "data": {
      "image/png": "[encoded data removed]",
      "text/latex": [
       "$$\\left[\\begin{matrix}\\frac{V_{perp} + W \\sin{\\left (\\phi - \\zeta \\right )}}{V_{para} - W \\cos{\\left (\\phi - \\zeta \\right )}}\\\\\\phi\\\\\\frac{V_{perp}}{V_{para}}\\end{matrix}\\right]$$"
      ],
      "text/plain": [
       "⎡Vₚₑᵣₚ + W⋅sin(φ - ζ)⎤\n",
       "⎢────────────────────⎥\n",
       "⎢Vₚₐᵣₐ - W⋅cos(φ - ζ)⎥\n",
       "⎢                    ⎥\n",
       "⎢         φ          ⎥\n",
       "⎢                    ⎥\n",
       "⎢       Vₚₑᵣₚ        ⎥\n",
       "⎢       ─────        ⎥\n",
       "⎣       Vₚₐᵣₐ        ⎦"
      ]
     },
     "execution_count": 22,
     "metadata": {},
     "output_type": "execute_result"
    }
   ],
   "source": [
    "h = sp.Matrix([h_A_perp/h_A_para, \n",
    "               phi, \n",
    "               V_perp/V_para, \n",
    "               #zeta,\n",
    "              ])\n",
    "h"
   ]
  },
  {
   "cell_type": "markdown",
   "metadata": {},
   "source": [
    "### With just h"
   ]
  },
  {
   "cell_type": "code",
   "execution_count": 34,
   "metadata": {},
   "outputs": [
    {
     "name": "stdout",
     "output_type": "stream",
     "text": [
      "Rank O =  3\n",
      "Rank {O; zeta} =  4\n",
      "\n",
      "Not observable.\n",
      "\n",
      "x_tilde = \n"
     ]
    },
    {
     "data": {
      "image/png": "[encoded data removed]",
      "text/latex": [
       "$$\\left [ \\zeta, \\quad W, \\quad \\phi, \\quad V_{perp}, \\quad V_{para}, \\quad \\dot{\\phi}\\right ]$$"
      ],
      "text/plain": [
       "[ζ, W, φ, Vₚₑᵣₚ, Vₚₐᵣₐ, φ̇]"
      ]
     },
     "execution_count": 34,
     "metadata": {},
     "output_type": "execute_result"
    }
   ],
   "source": [
    "O = h\n",
    "jx = get_vars(sp.Matrix.vstack(O, sp.Matrix([x]).T ) )\n",
    "J = O.jacobian( jx ).subs(s)\n",
    "R_nozeta = np.linalg.matrix_rank(np.matrix(J, dtype=float))\n",
    "\n",
    "# augment with zeta\n",
    "Ozeta = O.row_insert(0, sp.Matrix([zeta]))\n",
    "Jzeta = Ozeta.jacobian( jx ).subs(s)\n",
    "R_zeta = np.linalg.matrix_rank(np.matrix(Jzeta, dtype=float))\n",
    "\n",
    "print('Rank O = ', R_nozeta)\n",
    "print('Rank {O; zeta} = ', R_zeta)\n",
    "print()\n",
    "\n",
    "if R_nozeta == R_zeta:\n",
    "    print('Observable!')\n",
    "else:\n",
    "    print('Not observable.')\n",
    "\n",
    "    print()\n",
    "print('x_tilde = ')\n",
    "jx"
   ]
  },
  {
   "cell_type": "markdown",
   "metadata": {},
   "source": [
    "### With one derivative, no control"
   ]
  },
  {
   "cell_type": "code",
   "execution_count": 35,
   "metadata": {},
   "outputs": [
    {
     "name": "stdout",
     "output_type": "stream",
     "text": [
      "Rank O =  6\n",
      "Rank {O; zeta} =  6\n",
      "\n",
      "Observable!\n",
      "x_tilde = \n"
     ]
    },
    {
     "data": {
      "image/png": "[encoded data removed]",
      "text/latex": [
       "$$\\left [ \\zeta, \\quad W, \\quad \\phi, \\quad V_{perp}, \\quad V_{para}, \\quad \\dot{\\zeta}, \\quad \\dot{W}, \\quad \\dot{\\phi}\\right ]$$"
      ],
      "text/plain": [
       "[ζ, W, φ, Vₚₑᵣₚ, Vₚₐᵣₐ, ζ̇, Ẇ, φ̇]"
      ]
     },
     "execution_count": 35,
     "metadata": {},
     "output_type": "execute_result"
    }
   ],
   "source": [
    "O = h\n",
    "bigO = get_bigO(h.subs(motor_ks).subs(cs).subs(mis), \n",
    "                x, \n",
    "                [f_0.subs(motor_ks).subs(cs).subs(mis)], \n",
    "               )\n",
    "O = sp.Matrix.vstack(*bigO) \n",
    "jx = get_vars(sp.Matrix.vstack(O, sp.Matrix([x]).T ) )\n",
    "J = O.jacobian( jx ).subs(s)\n",
    "R_nozeta = np.linalg.matrix_rank(np.matrix(J, dtype=float))\n",
    "\n",
    "# augment with zeta\n",
    "Ozeta = O.row_insert(0, sp.Matrix([zeta]))\n",
    "Jzeta = Ozeta.jacobian( jx ).subs(s)\n",
    "R_zeta = np.linalg.matrix_rank(np.matrix(Jzeta, dtype=float))\n",
    "\n",
    "print('Rank O = ', R_nozeta)\n",
    "print('Rank {O; zeta} = ', R_zeta)\n",
    "print()\n",
    "\n",
    "if R_nozeta == R_zeta:\n",
    "    print('Observable!')\n",
    "else:\n",
    "    print('Not observable.')\n",
    "\n",
    "    print()\n",
    "print('x_tilde = ')\n",
    "jx"
   ]
  },
  {
   "cell_type": "markdown",
   "metadata": {},
   "source": [
    "### With one derivative, no control: zetadot observability?"
   ]
  },
  {
   "cell_type": "code",
   "execution_count": 36,
   "metadata": {},
   "outputs": [
    {
     "name": "stdout",
     "output_type": "stream",
     "text": [
      "Rank O =  6\n",
      "Rank {O; zetadot} =  7\n",
      "\n",
      "Not observable.\n",
      "\n",
      "x_tilde = \n"
     ]
    },
    {
     "data": {
      "image/png": "[encoded data removed]",
      "text/latex": [
       "$$\\left [ \\zeta, \\quad W, \\quad \\phi, \\quad V_{perp}, \\quad V_{para}, \\quad \\dot{\\zeta}, \\quad \\dot{W}, \\quad \\dot{\\phi}\\right ]$$"
      ],
      "text/plain": [
       "[ζ, W, φ, Vₚₑᵣₚ, Vₚₐᵣₐ, ζ̇, Ẇ, φ̇]"
      ]
     },
     "execution_count": 36,
     "metadata": {},
     "output_type": "execute_result"
    }
   ],
   "source": [
    "O = h\n",
    "bigO = get_bigO(h.subs(motor_ks).subs(cs).subs(mis), \n",
    "                x, \n",
    "                [f_0.subs(motor_ks).subs(cs).subs(mis),\n",
    "                ], \n",
    "               )\n",
    "O = sp.Matrix.vstack(*bigO) \n",
    "jx = get_vars(sp.Matrix.vstack(O, sp.Matrix([x]).T ) )\n",
    "J = O.jacobian( jx ).subs(s)\n",
    "R_nozeta = np.linalg.matrix_rank(np.matrix(J, dtype=float))\n",
    "\n",
    "# augment with zeta\n",
    "Ozeta = O.row_insert(0, sp.Matrix([zetadot]))\n",
    "Jzeta = Ozeta.jacobian( jx ).subs(s)\n",
    "R_zeta = np.linalg.matrix_rank(np.matrix(Jzeta, dtype=float))\n",
    "\n",
    "print('Rank O = ', R_nozeta)\n",
    "print('Rank {O; zetadot} = ', R_zeta)\n",
    "print()\n",
    "\n",
    "if R_nozeta == R_zeta:\n",
    "    print('Observable!')\n",
    "else:\n",
    "    print('Not observable.')\n",
    "\n",
    "    print()\n",
    "print('x_tilde = ')\n",
    "jx"
   ]
  },
  {
   "cell_type": "markdown",
   "metadata": {},
   "source": [
    "### With two derivatives, no control: zetadot observability?"
   ]
  },
  {
   "cell_type": "code",
   "execution_count": 38,
   "metadata": {},
   "outputs": [
    {
     "name": "stdout",
     "output_type": "stream",
     "text": [
      "Rank O =  7\n",
      "Rank {O; zetadot} =  7\n",
      "\n",
      "Observable!\n",
      "x_tilde = \n"
     ]
    },
    {
     "data": {
      "image/png": "[encoded data removed]",
      "text/latex": [
       "$$\\left [ \\zeta, \\quad W, \\quad \\phi, \\quad V_{perp}, \\quad V_{para}, \\quad \\dot{\\zeta}, \\quad \\dot{W}, \\quad \\dot{\\phi}\\right ]$$"
      ],
      "text/plain": [
       "[ζ, W, φ, Vₚₑᵣₚ, Vₚₐᵣₐ, ζ̇, Ẇ, φ̇]"
      ]
     },
     "execution_count": 38,
     "metadata": {},
     "output_type": "execute_result"
    }
   ],
   "source": [
    "O = h\n",
    "bigO = get_bigO(h.subs(motor_ks).subs(cs).subs(mis), \n",
    "                x, \n",
    "                [f_0.subs(motor_ks).subs(cs).subs(mis),\n",
    "                ], \n",
    "               )\n",
    "if 0:\n",
    "    O = sp.Matrix.vstack(*bigO) \n",
    "else: # second order\n",
    "    O = sp.Matrix.vstack(*bigO, directional_derivative(bigO[1], x, f_0.subs(motor_ks).subs(cs).subs(mis)))\n",
    "jx = get_vars(sp.Matrix.vstack(O, sp.Matrix([x]).T ) )\n",
    "J = O.jacobian( jx ).subs(s)\n",
    "R_nozeta = np.linalg.matrix_rank(np.matrix(J, dtype=float))\n",
    "\n",
    "# augment with zeta\n",
    "Ozeta = O.row_insert(0, sp.Matrix([zetadot]))\n",
    "Jzeta = Ozeta.jacobian( jx ).subs(s)\n",
    "R_zeta = np.linalg.matrix_rank(np.matrix(Jzeta, dtype=float))\n",
    "\n",
    "print('Rank O = ', R_nozeta)\n",
    "print('Rank {O; zetadot} = ', R_zeta)\n",
    "print()\n",
    "\n",
    "if R_nozeta == R_zeta:\n",
    "    print('Observable!')\n",
    "else:\n",
    "    print('Not observable.')\n",
    "\n",
    "    print()\n",
    "print('x_tilde = ')\n",
    "jx"
   ]
  }
 ],
 "metadata": {
  "kernelspec": {
   "display_name": "Python 3",
   "language": "python",
   "name": "python3"
  },
  "language_info": {
   "codemirror_mode": {
    "name": "ipython",
    "version": 3
   },
   "file_extension": ".py",
   "mimetype": "text/x-python",
   "name": "python",
   "nbconvert_exporter": "python",
   "pygments_lexer": "ipython3",
   "version": "3.5.2"
  }
 },
 "nbformat": 4,
 "nbformat_minor": 2
}
